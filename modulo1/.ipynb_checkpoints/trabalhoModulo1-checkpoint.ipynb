{
 "cells": [
  {
   "cell_type": "markdown",
   "id": "ad713502-a963-48c5-9a2c-abe8206275f4",
   "metadata": {},
   "source": [
    "# Trabalho módulo 1 \n",
    "\n",
    "#### Autor: Geraldo Silva\n",
    "\n",
    "github: https://github.com/GeraldoSilva1982/bootcamp-tech-pan/tree/main/modulo1"
   ]
  },
  {
   "cell_type": "code",
   "execution_count": 40,
   "id": "28759cad-c2ad-469b-96cc-3099ab3e2a7c",
   "metadata": {},
   "outputs": [],
   "source": [
    "\n",
    "## Importando libs para trabalhar com dados\n",
    "\n",
    "import pandas as pd\n",
    "import matplotlib.pyplot as plt\n",
    "import seaborn as sns\n",
    "%matplotlib inline "
   ]
  },
  {
   "cell_type": "code",
   "execution_count": 41,
   "id": "ac2c245a-2da0-4779-bcb0-df631e6253ff",
   "metadata": {},
   "outputs": [],
   "source": [
    "#Lendo arquivo custo_diaria.csv fornecido pelo Professor Leandro Lessa\n",
    "\n",
    "dataset = \"https://raw.githubusercontent.com/GeraldoSilva1982/bootcamp-tech-pan/main/modulo1/custo_diaria.csv\"\n",
    "\n",
    "dados = pd.read_csv(dataset, header=None,skiprows=1, sep = \";\")\n"
   ]
  },
  {
   "cell_type": "code",
   "execution_count": 42,
   "id": "d1861af6-c744-41c3-9141-570bc4f0606b",
   "metadata": {},
   "outputs": [],
   "source": [
    "#Colocando rótolos nos dados\n",
    "\n",
    "rotolos = [\"quantidadePessoas\", \"valorDiaria\"]\n",
    "dados.columns = rotolos\n"
   ]
  },
  {
   "cell_type": "code",
   "execution_count": 43,
   "id": "7fc713bd-3d38-4829-943a-0c9b204a452a",
   "metadata": {},
   "outputs": [
    {
     "data": {
      "text/html": [
       "<div>\n",
       "<style scoped>\n",
       "    .dataframe tbody tr th:only-of-type {\n",
       "        vertical-align: middle;\n",
       "    }\n",
       "\n",
       "    .dataframe tbody tr th {\n",
       "        vertical-align: top;\n",
       "    }\n",
       "\n",
       "    .dataframe thead th {\n",
       "        text-align: right;\n",
       "    }\n",
       "</style>\n",
       "<table border=\"1\" class=\"dataframe\">\n",
       "  <thead>\n",
       "    <tr style=\"text-align: right;\">\n",
       "      <th></th>\n",
       "      <th>quantidadePessoas</th>\n",
       "      <th>valorDiaria</th>\n",
       "    </tr>\n",
       "  </thead>\n",
       "  <tbody>\n",
       "    <tr>\n",
       "      <th>count</th>\n",
       "      <td>30.000000</td>\n",
       "      <td>30.000000</td>\n",
       "    </tr>\n",
       "    <tr>\n",
       "      <th>mean</th>\n",
       "      <td>28.600000</td>\n",
       "      <td>1648.633333</td>\n",
       "    </tr>\n",
       "    <tr>\n",
       "      <th>std</th>\n",
       "      <td>18.189804</td>\n",
       "      <td>950.522197</td>\n",
       "    </tr>\n",
       "    <tr>\n",
       "      <th>min</th>\n",
       "      <td>1.000000</td>\n",
       "      <td>150.000000</td>\n",
       "    </tr>\n",
       "    <tr>\n",
       "      <th>25%</th>\n",
       "      <td>13.500000</td>\n",
       "      <td>869.250000</td>\n",
       "    </tr>\n",
       "    <tr>\n",
       "      <th>50%</th>\n",
       "      <td>26.000000</td>\n",
       "      <td>1627.500000</td>\n",
       "    </tr>\n",
       "    <tr>\n",
       "      <th>75%</th>\n",
       "      <td>44.500000</td>\n",
       "      <td>2497.000000</td>\n",
       "    </tr>\n",
       "    <tr>\n",
       "      <th>max</th>\n",
       "      <td>60.000000</td>\n",
       "      <td>3300.000000</td>\n",
       "    </tr>\n",
       "  </tbody>\n",
       "</table>\n",
       "</div>"
      ],
      "text/plain": [
       "       quantidadePessoas  valorDiaria\n",
       "count          30.000000    30.000000\n",
       "mean           28.600000  1648.633333\n",
       "std            18.189804   950.522197\n",
       "min             1.000000   150.000000\n",
       "25%            13.500000   869.250000\n",
       "50%            26.000000  1627.500000\n",
       "75%            44.500000  2497.000000\n",
       "max            60.000000  3300.000000"
      ]
     },
     "execution_count": 43,
     "metadata": {},
     "output_type": "execute_result"
    }
   ],
   "source": [
    "# Obtendo dados estátisticos dos dados\n",
    "\n",
    "dados.describe()"
   ]
  },
  {
   "cell_type": "code",
   "execution_count": 44,
   "id": "84f4cd91-dfac-4681-bdc3-51175387e558",
   "metadata": {},
   "outputs": [
    {
     "data": {
      "image/png": "[encoded data removed]",
      "text/plain": [
       "<Figure size 432x288 with 1 Axes>"
      ]
     },
     "metadata": {
      "needs_background": "light"
     },
     "output_type": "display_data"
    }
   ],
   "source": [
    "#Plotando gráficos\n",
    "\n",
    "dados.plot(kind = 'scatter', x = 'quantidadePessoas', y = 'valorDiaria')\n",
    "\n",
    "plt.show() "
   ]
  },
  {
   "cell_type": "code",
   "execution_count": 45,
   "id": "3b46d991-2a3f-4a93-8f64-e8b14af1668c",
   "metadata": {},
   "outputs": [
    {
     "data": {
      "text/html": [
       "<div>\n",
       "<style scoped>\n",
       "    .dataframe tbody tr th:only-of-type {\n",
       "        vertical-align: middle;\n",
       "    }\n",
       "\n",
       "    .dataframe tbody tr th {\n",
       "        vertical-align: top;\n",
       "    }\n",
       "\n",
       "    .dataframe thead th {\n",
       "        text-align: right;\n",
       "    }\n",
       "</style>\n",
       "<table border=\"1\" class=\"dataframe\">\n",
       "  <thead>\n",
       "    <tr style=\"text-align: right;\">\n",
       "      <th></th>\n",
       "      <th>quantidadePessoas</th>\n",
       "      <th>valorDiaria</th>\n",
       "    </tr>\n",
       "  </thead>\n",
       "  <tbody>\n",
       "    <tr>\n",
       "      <th>quantidadePessoas</th>\n",
       "      <td>1.000000</td>\n",
       "      <td>0.978666</td>\n",
       "    </tr>\n",
       "    <tr>\n",
       "      <th>valorDiaria</th>\n",
       "      <td>0.978666</td>\n",
       "      <td>1.000000</td>\n",
       "    </tr>\n",
       "  </tbody>\n",
       "</table>\n",
       "</div>"
      ],
      "text/plain": [
       "                   quantidadePessoas  valorDiaria\n",
       "quantidadePessoas           1.000000     0.978666\n",
       "valorDiaria                 0.978666     1.000000"
      ]
     },
     "execution_count": 45,
     "metadata": {},
     "output_type": "execute_result"
    }
   ],
   "source": [
    "# Calculando a correlaçãoc dos dados\n",
    "\n",
    "dados.corr()"
   ]
  },
  {
   "cell_type": "code",
   "execution_count": 46,
   "id": "a99123c9-56fe-43ec-bfec-33c81b1dfa9e",
   "metadata": {},
   "outputs": [],
   "source": [
    "\n",
    "#Calculando Regressão Linear\n",
    "\n",
    "from sklearn.linear_model import LinearRegression"
   ]
  },
  {
   "cell_type": "code",
   "execution_count": 47,
   "id": "18a6cf53-7e8c-4478-ac68-a4e191509dff",
   "metadata": {},
   "outputs": [
    {
     "data": {
      "text/plain": [
       "LinearRegression()"
      ]
     },
     "execution_count": 47,
     "metadata": {},
     "output_type": "execute_result"
    }
   ],
   "source": [
    "#instaciando objeto \n",
    "\n",
    "reg_lin = LinearRegression()\n",
    "\n",
    "X = dados[['quantidadePessoas']]\n",
    "Y = dados['valorDiaria']\n",
    "\n",
    "reg_lin.fit(X,Y)"
   ]
  },
  {
   "cell_type": "code",
   "execution_count": 48,
   "id": "6573a226-c8e0-4d4f-9e8c-08e29ed12baf",
   "metadata": {},
   "outputs": [
    {
     "data": {
      "text/plain": [
       "186.00229281307315"
      ]
     },
     "execution_count": 48,
     "metadata": {},
     "output_type": "execute_result"
    }
   ],
   "source": [
    "# Valor do  intercept da previsão\n",
    "reg_lin.intercept_ "
   ]
  },
  {
   "cell_type": "code",
   "execution_count": 49,
   "id": "aca9dbef-a7a5-4e01-88ab-6c0e4bf883f6",
   "metadata": {},
   "outputs": [
    {
     "data": {
      "text/plain": [
       "array([51.14094547])"
      ]
     },
     "execution_count": 49,
     "metadata": {},
     "output_type": "execute_result"
    }
   ],
   "source": [
    "#Valor do coeficiente angular da reta de regressão\n",
    "reg_lin.coef_"
   ]
  },
  {
   "cell_type": "code",
   "execution_count": 50,
   "id": "58310882-cc83-4f56-b935-6cfc3612bf80",
   "metadata": {},
   "outputs": [],
   "source": [
    "# definido função linear de regressão\n",
    "\n",
    "def valorCalculado(quant_pessoas = []):\n",
    "        a = []\n",
    "        for b in quant_pessoas:\n",
    "            a.append(186 + b * 51)\n",
    "        return a\n",
    "               "
   ]
  },
  {
   "cell_type": "code",
   "execution_count": 51,
   "id": "3a4cebdc-c6ea-47fe-87e3-2c8f7091ab67",
   "metadata": {},
   "outputs": [],
   "source": [
    "# Calculando valores para lista com 17,25 e 27 pessoas.\n",
    "# função usada para perguntas 10,11 e 12 do teste do modulo1\n",
    "valor = valorCalculado([17,25,27])\n"
   ]
  },
  {
   "cell_type": "code",
   "execution_count": 52,
   "id": "325275a3-b451-419f-b2a7-b235bea659d9",
   "metadata": {},
   "outputs": [
    {
     "data": {
      "text/plain": [
       "39"
      ]
     },
     "execution_count": 52,
     "metadata": {},
     "output_type": "execute_result"
    }
   ],
   "source": [
    "# pelos dados de 25 pessaos o valor é = 1500,00\n",
    "#logo a diderença entre o valor real e função de regressão  é:\n",
    "var = valorCalculado([25])\n",
    "1500 - var.pop()"
   ]
  },
  {
   "cell_type": "code",
   "execution_count": 53,
   "id": "4850b4c8-bb8b-43bd-8c81-7804f80fa203",
   "metadata": {},
   "outputs": [
    {
     "data": {
      "text/plain": [
       "192"
      ]
     },
     "execution_count": 53,
     "metadata": {},
     "output_type": "execute_result"
    }
   ],
   "source": [
    "# pelos dados de 27 pessaos o valor é = 1755,00\n",
    "#logo a diderença entre o valor real e função de regressão  é:\n",
    "var = valorCalculado([27])\n",
    "1755 - var.pop()"
   ]
  },
  {
   "cell_type": "code",
   "execution_count": 65,
   "id": "934fcddf-c221-4a44-9d25-47daa60e5997",
   "metadata": {},
   "outputs": [],
   "source": [
    "from sklearn.metrics import mean_squared_error\n",
    "\n",
    "# Será adicionado nova coluna chamada valorCalc no dataframe com valores calculados \n",
    "#da função de regressão \n",
    "#\n",
    "valorcalc = valorCalculado(dados['quantidadePessoas'])\n",
    "dados['valorCalc'] = valorcalc\n",
    "\n",
    "#mean_squared_error(dados['valorDiaria'], dados['valorCalc'])"
   ]
  },
  {
   "cell_type": "code",
   "execution_count": 66,
   "id": "a0e9c255-f267-4ace-835e-d0293aa14233",
   "metadata": {},
   "outputs": [
    {
     "data": {
      "text/plain": [
       "36890.3"
      ]
     },
     "execution_count": 66,
     "metadata": {},
     "output_type": "execute_result"
    }
   ],
   "source": [
    "#Qual o valor obtido para mean_squared_error?\n",
    "\n",
    "mean_squared_error(dados['valorDiaria'], dados['valorCalc'])"
   ]
  },
  {
   "cell_type": "code",
   "execution_count": 67,
   "id": "76836012-4e6a-4ec2-b398-9ef0e7cd38bd",
   "metadata": {},
   "outputs": [
    {
     "data": {
      "text/plain": [
       "139.56666666666666"
      ]
     },
     "execution_count": 67,
     "metadata": {},
     "output_type": "execute_result"
    }
   ],
   "source": [
    "#Qual o valor obtido para mean_absolute_error?\n",
    "\n",
    "from sklearn.metrics import mean_absolute_error\n",
    "\n",
    "mean_absolute_error(dados['valorDiaria'], dados['valorCalc'])"
   ]
  },
  {
   "cell_type": "code",
   "execution_count": 71,
   "id": "620c2720-0c6d-4ed3-968a-c57b68fa624a",
   "metadata": {},
   "outputs": [
    {
     "data": {
      "text/plain": [
       "0.9577612636035636"
      ]
     },
     "execution_count": 71,
     "metadata": {},
     "output_type": "execute_result"
    }
   ],
   "source": [
    "#Qual foi o score obtido pelo algoritmo de regressão?\n",
    "\n",
    "from sklearn.metrics import r2_score\n",
    "\n",
    "r2_score(dados['valorDiaria'], dados['valorCalc'])"
   ]
  },
  {
   "cell_type": "code",
   "execution_count": null,
   "id": "b6ee8b01-749b-4e88-b25a-b3d94d899aeb",
   "metadata": {},
   "outputs": [],
   "source": []
  }
 ],
 "metadata": {
  "kernelspec": {
   "display_name": "Python 3 (ipykernel)",
   "language": "python",
   "name": "python3"
  },
  "language_info": {
   "codemirror_mode": {
    "name": "ipython",
    "version": 3
   },
   "file_extension": ".py",
   "mimetype": "text/x-python",
   "name": "python",
   "nbconvert_exporter": "python",
   "pygments_lexer": "ipython3",
   "version": "3.9.7"
  }
 },
 "nbformat": 4,
 "nbformat_minor": 5
}
