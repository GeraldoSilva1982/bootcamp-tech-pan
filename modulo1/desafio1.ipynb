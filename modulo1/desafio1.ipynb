{
 "cells": [
  {
   "cell_type": "markdown",
   "id": "3759e5d4-5fa7-41ea-ab55-494a65d5c00f",
   "metadata": {},
   "source": [
    "# Desafio módulo 1 \n",
    "\n",
    "#### Autor: Geraldo Silva\n",
    "\n",
    "github: https://github.com/GeraldoSilva1982/bootcamp-tech-pan/tree/main/modulo1"
   ]
  },
  {
   "cell_type": "code",
   "execution_count": null,
   "id": "1a1b8806-3dfd-46d2-ba50-271a3856c84d",
   "metadata": {},
   "outputs": [],
   "source": []
  }
 ],
 "metadata": {
  "kernelspec": {
   "display_name": "Python 3 (ipykernel)",
   "language": "python",
   "name": "python3"
  },
  "language_info": {
   "codemirror_mode": {
    "name": "ipython",
    "version": 3
   },
   "file_extension": ".py",
   "mimetype": "text/x-python",
   "name": "python",
   "nbconvert_exporter": "python",
   "pygments_lexer": "ipython3",
   "version": "3.9.7"
  }
 },
 "nbformat": 4,
 "nbformat_minor": 5
}
